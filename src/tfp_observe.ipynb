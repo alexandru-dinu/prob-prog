{
 "cells": [
  {
   "cell_type": "code",
   "execution_count": null,
   "metadata": {},
   "outputs": [],
   "source": [
    "import numpy as np\n",
    "import tensorflow as tf\n",
    "import tensorflow_probability as tfp\n",
    "tfd = tfp.distributions\n",
    "\n",
    "import matplotlib.pyplot as plt\n",
    "import seaborn as sns\n",
    "\n",
    "%matplotlib inline\n",
    "%config InlineBackend.figure_format = 'retina'\n",
    "sns.set()"
   ]
  },
  {
   "cell_type": "code",
   "execution_count": null,
   "metadata": {},
   "outputs": [],
   "source": [
    "def desc(t):\n",
    "    t_ = t.numpy()\n",
    "    print(f'mean={t_.mean():.5f}, std={t_.std():.5f}')\n",
    "    \n",
    "def hist(xs, xlim=None):\n",
    "    plt.figure(figsize=(14,4))\n",
    "    _ = plt.hist(xs, bins=64, density=True, color='c')\n",
    "    \n",
    "    if xlim is not None:\n",
    "        plt.xlim(xlim)"
   ]
  },
  {
   "cell_type": "code",
   "execution_count": null,
   "metadata": {},
   "outputs": [],
   "source": [
    "class Rejector(tfd.Distribution):\n",
    "    def __init__(self, underlying, condition, name=None):\n",
    "        self._u = underlying\n",
    "        self._c = condition\n",
    "        super().__init__(dtype=underlying.dtype, \n",
    "                         name=name or f'rejection_{underlying}',\n",
    "                         reparameterization_type=tfd.NOT_REPARAMETERIZED,\n",
    "                         validate_args=underlying.validate_args,\n",
    "                         allow_nan_stats=underlying.allow_nan_stats)\n",
    "        \n",
    "    def _batch_shape(self):\n",
    "        return self._u.batch_shape\n",
    "    def _batch_shape_tensor(self):\n",
    "        return self._u.batch_shape_tensor()\n",
    "    def _event_shape(self):\n",
    "        return self._u.event_shape\n",
    "    def _event_shape_tensor(self):\n",
    "        return self._u.event_shape_tensor()\n",
    "\n",
    "    def _sample_n(self, n, seed=None):\n",
    "        return tf.while_loop(\n",
    "            cond=lambda samples: not tf.reduce_all(self._c(samples)),\n",
    "            body=lambda samples: [tf.where(self._c(samples), x=samples, y=self._u.sample(n, seed=seed))],\n",
    "            loop_vars=[self._u.sample(n, seed=seed)]\n",
    "        )[0]"
   ]
  },
  {
   "cell_type": "code",
   "execution_count": null,
   "metadata": {},
   "outputs": [],
   "source": [
    "# condition written in `numpy` form\n",
    "cond = lambda x: np.isclose(x, 1.4, atol=1e-3)\n",
    "cond = lambda x: x > 0\n",
    "# cond = lambda x: (-3 < x) & (x < 3)\n",
    "# cond = lambda x: True # id\n",
    "\n",
    "N = 500000\n",
    "xs = Rejector(tfd.Normal(0,1), cond).sample(N)\n",
    "\n",
    "hist(xs.numpy(), xlim=[-3,3])"
   ]
  },
  {
   "cell_type": "code",
   "execution_count": null,
   "metadata": {},
   "outputs": [],
   "source": [
    "class Wrapper:\n",
    "    def __init__(self, dist, **kwargs):\n",
    "        self.dist = dist\n",
    "        self.__dict__.update(kwargs)\n",
    "    \n",
    "    def observe(self, cond):\n",
    "        \"\"\"\n",
    "        Installs the observe condition @cond (unary predicate)\n",
    "        as a rejector over the underlying distribution.\n",
    "        \"\"\"\n",
    "        assert callable(cond)\n",
    "        self.rej = Rejector(self.dist, cond)\n",
    "        \n",
    "    def sample(self, N, seed=None):\n",
    "        d = self.rej if hasattr(self, 'rej') else self.dist\n",
    "        return d.sample(N, seed=seed)"
   ]
  },
  {
   "cell_type": "code",
   "execution_count": null,
   "metadata": {},
   "outputs": [],
   "source": [
    "x = Wrapper(dist=tfd.Normal(0,1))\n",
    "\n",
    "x.observe(lambda a: a > 0) # observe(phi(x))\n",
    "\n",
    "hist(x.sample(10000).numpy())"
   ]
  },
  {
   "cell_type": "code",
   "execution_count": null,
   "metadata": {},
   "outputs": [],
   "source": [
    "x.sample(1).numpy()[0]"
   ]
  },
  {
   "cell_type": "code",
   "execution_count": null,
   "metadata": {},
   "outputs": [],
   "source": [
    "b1 = Wrapper(dist=tfd.Bernoulli(probs=0.4))\n",
    "b2 = Wrapper(dist=tfd.Bernoulli(probs=0.2))\n",
    "\n",
    "# observe(b1 ^ b2)\n",
    "# b1.observe(lambda x: x == 1)\n",
    "# b2.observe(lambda x: x == 1)\n",
    "\n",
    "# observe(b1 v b2)\n",
    "# TODO"
   ]
  },
  {
   "cell_type": "markdown",
   "metadata": {},
   "source": [
    "## Insert `observe`"
   ]
  },
  {
   "cell_type": "code",
   "execution_count": null,
   "metadata": {},
   "outputs": [],
   "source": [
    "import ast\n",
    "import astor\n",
    "import showast"
   ]
  },
  {
   "cell_type": "code",
   "execution_count": null,
   "metadata": {},
   "outputs": [],
   "source": [
    "# %%showast\n",
    "# def f():\n",
    "#     x = Wrapper(dist=tfd.Normal(0,1))\n",
    "#     return x.sample(1)"
   ]
  },
  {
   "cell_type": "code",
   "execution_count": null,
   "metadata": {},
   "outputs": [],
   "source": [
    "prog = \"\"\"\n",
    "def f():\n",
    "    x = Wrapper(dist=tfd.Normal(0,1))\n",
    "    return x.sample(1)\n",
    "\"\"\"\n",
    "\n",
    "class my(ast.NodeVisitor):\n",
    "    def __init__(self, **kwargs):\n",
    "        self.__dict__.update(kwargs)\n",
    "        self.vars = []\n",
    "        \n",
    "    def transform(self):\n",
    "        self.visit(self.tree)\n",
    "        return astor.to_source(self.tree)\n",
    "    \n",
    "    def visit_Name(self, node):\n",
    "        if isinstance(node.ctx, ast.Store):\n",
    "            self.vars.append(node)\n",
    "            \n",
    "    def visit_Return(self, node):\n",
    "        print(node.__dict__)\n",
    "        \n",
    "#         last = self.__to_resolve.pop()\n",
    "        \n",
    "#         if not isinstance(last, ast.If):\n",
    "#            return node\n",
    "        \n",
    "#         last.body = [node]\n",
    "#         return None\n",
    "        \n",
    "v = my()\n",
    "t = ast.parse(prog)\n",
    "v.visit(t)"
   ]
  }
 ],
 "metadata": {
  "kernelspec": {
   "display_name": "Python 3",
   "language": "python",
   "name": "python3"
  },
  "language_info": {
   "codemirror_mode": {
    "name": "ipython",
    "version": 3
   },
   "file_extension": ".py",
   "mimetype": "text/x-python",
   "name": "python",
   "nbconvert_exporter": "python",
   "pygments_lexer": "ipython3",
   "version": "3.8.5"
  }
 },
 "nbformat": 4,
 "nbformat_minor": 4
}
