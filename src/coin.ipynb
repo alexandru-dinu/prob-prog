{
 "cells": [
  {
   "cell_type": "code",
   "execution_count": null,
   "id": "62c6017c-3b68-473b-a05d-69971a13248b",
   "metadata": {},
   "outputs": [],
   "source": [
    "import pyro\n",
    "import torch as T\n",
    "import numpy as np"
   ]
  },
  {
   "cell_type": "code",
   "execution_count": null,
   "id": "ef24aa6e-e739-47a8-bdd9-d526f77e601e",
   "metadata": {},
   "outputs": [],
   "source": [
    "def coin():\n",
    "    theta = pyro.sample(\"theta\", pyro.distributions.Uniform(\n",
    "        T.tensor([0], dtype=T.float), \n",
    "        T.tensor([1], dtype=T.float),\n",
    "    ))\n",
    "    pyro.sample(\"x\", pyro.distributions.Bernoulli(theta * T.ones(10)))"
   ]
  },
  {
   "cell_type": "code",
   "execution_count": null,
   "id": "b479d91f-cf63-453a-8e3b-5744a02169b1",
   "metadata": {},
   "outputs": [],
   "source": [
    "pyro.clear_param_store()\n",
    "\n",
    "\n",
    "data = {\"x\": T.tensor([0, 1, 0, 0, 0, 0, 0, 0, 0, 1], dtype=T.float)}\n",
    "\n",
    "cond = pyro.condition(coin, data=data)\n",
    "\n",
    "sampler = pyro.infer.Importance(cond, num_samples=1_000)\n",
    "post = pyro.infer.EmpiricalMarginal(sampler, sites=['theta'])\n",
    "\n",
    "# samples = [post()['theta'].data[0] for _ in range(1000)]\n",
    "# print(np.mean(samples), np.std(samples))\n"
   ]
  },
  {
   "cell_type": "code",
   "execution_count": null,
   "id": "5ca2fd98-23df-4c5c-8816-42cc2eb6811b",
   "metadata": {},
   "outputs": [],
   "source": []
  },
  {
   "cell_type": "code",
   "execution_count": null,
   "id": "3b661aa6-e08a-4202-b33d-d42e0cafcdc3",
   "metadata": {},
   "outputs": [],
   "source": []
  }
 ],
 "metadata": {
  "kernelspec": {
   "display_name": "Python 3",
   "language": "python",
   "name": "python3"
  },
  "language_info": {
   "codemirror_mode": {
    "name": "ipython",
    "version": 3
   },
   "file_extension": ".py",
   "mimetype": "text/x-python",
   "name": "python",
   "nbconvert_exporter": "python",
   "pygments_lexer": "ipython3",
   "version": "3.8.8"
  }
 },
 "nbformat": 4,
 "nbformat_minor": 5
}
