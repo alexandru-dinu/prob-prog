{
 "cells": [
  {
   "cell_type": "markdown",
   "id": "07573f4c-528a-4e13-be54-b98fd1cd1c3b",
   "metadata": {},
   "source": [
    "## Inference termination\n",
    "\n",
    "**How can we reason about this program?**\n",
    "\n",
    "```python\n",
    "def loop():\n",
    "    return loop()\n",
    "\n",
    "def prog():\n",
    "    if flip(0.2):\n",
    "        loop()\n",
    "        return 1\n",
    "    \n",
    "    return flip(0.5)\n",
    "```"
   ]
  }
 ],
 "metadata": {
  "kernelspec": {
   "display_name": "Python 3 (ipykernel)",
   "language": "python",
   "name": "python3"
  },
  "language_info": {
   "codemirror_mode": {
    "name": "ipython",
    "version": 3
   },
   "file_extension": ".py",
   "mimetype": "text/x-python",
   "name": "python",
   "nbconvert_exporter": "python",
   "pygments_lexer": "ipython3",
   "version": "3.8.10"
  }
 },
 "nbformat": 4,
 "nbformat_minor": 5
}
